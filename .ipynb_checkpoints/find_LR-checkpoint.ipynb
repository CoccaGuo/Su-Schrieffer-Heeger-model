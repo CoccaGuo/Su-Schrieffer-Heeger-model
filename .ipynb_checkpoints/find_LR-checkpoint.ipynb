{
 "cells": [
  {
   "cell_type": "markdown",
   "metadata": {},
   "source": [
    "# 寻找$\\Delta_{LR}$\n",
    "$\\Delta_{LR}$和t1l t1r t2 以及 Nl Nr 有关，经验告诉我们Nl/Nr应该在指数上，l/r 应该是对称的，又知道t是有相同量纲的，N是格子的数目。t2恒等于1.\n",
    "### 1.先观察随$N_R$的变化"
   ]
  },
  {
   "cell_type": "code",
   "execution_count": 1,
   "metadata": {},
   "outputs": [],
   "source": [
    "import numpy as np\n",
    "import scipy\n",
    "from scipy import stats\n",
    "import matplotlib.pyplot as plt\n",
    "from models import SSH"
   ]
  },
  {
   "cell_type": "code",
   "execution_count": 2,
   "metadata": {},
   "outputs": [],
   "source": [
    "gamma = 0\n",
    "t1l = 0.5\n",
    "t1r = 1.5\n",
    "t2 = 1\n",
    "Nr = 20\n",
    "Nl = 20\n",
    "mat12 = []"
   ]
  },
  {
   "cell_type": "code",
   "execution_count": 3,
   "metadata": {},
   "outputs": [],
   "source": [
    "for Nr in range(4,41,1):\n",
    "    NNl = np.sqrt(2)*np.sqrt(((1 - (t1l / t2) ** (2 * Nl)) / (1 - (t1l / t2) ** 2)))\n",
    "    NNr = np.sqrt(2)*np.sqrt(((1 - (t1r / t2) ** (2 * Nr)) / (1 - (t1r / t2) ** 2)))\n",
    "    b1l = np.kron((-t1l / t2) ** (np.arange(1, Nl+1)-1), np.array([1, 0])) / NNl   \n",
    "    b1r = np.kron((-t1r / t2) ** (np.arange(1, Nr+1)-1), np.array([1, 0])) / NNr    \n",
    "    b2l = np.kron((-t1l / t2) ** (Nl - np.arange(1, Nl+1)), np.array([0, 1])) / NNl  \n",
    "    b2r = np.kron((-t1r / t2) ** (Nr - np.arange(1, Nr+1)), np.array([0, 1])) / NNr \n",
    "    #数值\n",
    "    chain = SSH.SSH(length=Nl + Nr, t1lp=t1l + gamma, t1lm=t1l - gamma, t1rp=t1r + gamma, t1rm=t1r - gamma, pos=Nl,bloch=True)\n",
    "    b1ll = np.append(b1l,np.zeros((1,2*Nr))) # 用0补全成一致的长度，这样可以矩阵运算\n",
    "    b2ll = np.append(b2l, np.zeros((1, 2*Nr)))\n",
    "    b1rr = np.append(np.zeros((1, 2*Nl)), b1r)\n",
    "    b2rr = np.append(np.zeros((1, 2*Nl)), b2r)\n",
    "    mat12.append(b1ll.dot(chain.hamiltonian).dot(b2rr))"
   ]
  },
  {
   "cell_type": "code",
   "execution_count": 4,
   "metadata": {},
   "outputs": [
    {
     "name": "stderr",
     "output_type": "stream",
     "text": [
      "/Users/cocca/opt/anaconda3/lib/python3.7/site-packages/numpy/core/_asarray.py:85: ComplexWarning: Casting complex values to real discards the imaginary part\n",
      "  return array(a, dtype, copy=False, order=order)\n"
     ]
    },
    {
     "data": {
      "text/plain": [
       "Text(0.5, 0, 'Nr')"
      ]
     },
     "execution_count": 4,
     "metadata": {},
     "output_type": "execute_result"
    },
    {
     "data": {
      "image/png": "[encoded data removed]",
      "text/plain": [
       "<Figure size 432x288 with 1 Axes>"
      ]
     },
     "metadata": {
      "needs_background": "light"
     },
     "output_type": "display_data"
    }
   ],
   "source": [
    "plt.plot(range(4,41,1),mat12,'kx')\n",
    "plt.xlabel('Nr')"
   ]
  },
  {
   "cell_type": "code",
   "execution_count": 5,
   "metadata": {},
   "outputs": [
    {
     "name": "stdout",
     "output_type": "stream",
     "text": [
      "取对数后线性拟合：(-0.4056103489822412+0j)*x+(-0.7212589240418321+0j) r^2=(0.9999994698199463-0j)\n"
     ]
    }
   ],
   "source": [
    "slope, intercept, r_value, p_value, std_err = stats.linregress(range(4,41,1),np.log(mat12))\n",
    "print(f'取对数后线性拟合：{slope}*x+{intercept}',f'r^2={r_value**2}')"
   ]
  },
  {
   "cell_type": "markdown",
   "metadata": {},
   "source": [
    "可以发现，delta随着Nr的变化规律是指数关系\n",
    "$y = Ae^{\\alpha N_R}$  \n",
    "$\\ln{y} = \\ln{A}+\\alpha N_R$"
   ]
  },
  {
   "cell_type": "code",
   "execution_count": 6,
   "metadata": {},
   "outputs": [],
   "source": [
    "A = np.exp(intercept)\n",
    "alpha = slope"
   ]
  },
  {
   "cell_type": "markdown",
   "metadata": {},
   "source": [
    "### 下面控制Nr不变，改变Nl，这时候，右边$e^{\\alpha N_R}$是常数，这样可以探究A的性质"
   ]
  },
  {
   "cell_type": "code",
   "execution_count": 7,
   "metadata": {},
   "outputs": [],
   "source": [
    "mat34 = []\n",
    "for Nl in range(4,41,1):\n",
    "    NNl = np.sqrt(2)*np.sqrt(((1 - (t1l / t2) ** (2 * Nl)) / (1 - (t1l / t2) ** 2)))\n",
    "    NNr = np.sqrt(2)*np.sqrt(((1 - (t1r / t2) ** (2 * Nr)) / (1 - (t1r / t2) ** 2)))\n",
    "    b1l = np.kron((-t1l / t2) ** (np.arange(1, Nl+1)-1), np.array([1, 0])) / NNl   \n",
    "    b1r = np.kron((-t1r / t2) ** (np.arange(1, Nr+1)-1), np.array([1, 0])) / NNr    \n",
    "    b2l = np.kron((-t1l / t2) ** (Nl - np.arange(1, Nl+1)), np.array([0, 1])) / NNl  \n",
    "    b2r = np.kron((-t1r / t2) ** (Nr - np.arange(1, Nr+1)), np.array([0, 1])) / NNr \n",
    "    #数值\n",
    "    chain = SSH.SSH(length=Nl + Nr, t1lp=t1l + gamma, t1lm=t1l - gamma, t1rp=t1r + gamma, t1rm=t1r - gamma, pos=Nl,bloch=True)\n",
    "    b1ll = np.append(b1l,np.zeros((1,2*Nr))) # 用0补全成一致的长度，这样可以矩阵运算\n",
    "    b2ll = np.append(b2l, np.zeros((1, 2*Nr)))\n",
    "    b1rr = np.append(np.zeros((1, 2*Nl)), b1r)\n",
    "    b2rr = np.append(np.zeros((1, 2*Nl)), b2r)\n",
    "    mat34.append(b1ll.dot(chain.hamiltonian).dot(b2rr))"
   ]
  },
  {
   "cell_type": "code",
   "execution_count": 8,
   "metadata": {},
   "outputs": [
    {
     "data": {
      "text/plain": [
       "[<matplotlib.lines.Line2D at 0x1a1b33b6d8>]"
      ]
     },
     "execution_count": 8,
     "metadata": {},
     "output_type": "execute_result"
    },
    {
     "data": {
      "image/png": "[encoded data removed]",
      "text/plain": [
       "<Figure size 432x288 with 1 Axes>"
      ]
     },
     "metadata": {
      "needs_background": "light"
     },
     "output_type": "display_data"
    }
   ],
   "source": [
    "plt.plot(range(4,41),mat34,'kx')"
   ]
  },
  {
   "cell_type": "markdown",
   "metadata": {},
   "source": [
    "从上图可以看出来，Nl增加的时候，$\\Delta_{LR}$(确切的说是A的部分)存在一个渐近线，$\\lim_{Nl \\to +\\infty} \\Delta_{LR}= $常数\n",
    "为了了解这个常数和哪些量有关，改变若干可能有关的量：右边格子的长度Nr，t1r, t1l"
   ]
  },
  {
   "cell_type": "markdown",
   "metadata": {},
   "source": [
    "#### 改变t1r"
   ]
  },
  {
   "cell_type": "markdown",
   "metadata": {},
   "source": [
    "改变t1r的时候，可以发现，t1r越大，整体函数就被压得越扁，而和具体的Nl无关，这时候方程可以写成  \n",
    "$y = f_0(t1r,...)*A(Nl,...)*e^{\\alpha Nr}$"
   ]
  },
  {
   "cell_type": "markdown",
   "metadata": {},
   "source": [
    "#### 改变Nr"
   ]
  },
  {
   "cell_type": "markdown",
   "metadata": {},
   "source": [
    "改变Nr的时候，可以发现，f(t1r)的调控因子，调控的幅度是受Nr控制的。具体的说，调控的幅度和Nr的长度是指数关系（上午验证过了）  \n",
    "这时候，方程可以写成 $y = [f_1(t1r,...)]^{Nr}*A(Nl,...)*e^{\\alpha Nr}$  \n",
    "左侧的调控因子其实是右侧e指数的一部分，$y = A(Nl,...)*e^{\\alpha Nr}$, $\\alpha = \\alpha(t1r,...)$\n",
    "A是导致渐近线的项，e指数是调控项"
   ]
  },
  {
   "cell_type": "markdown",
   "metadata": {},
   "source": [
    "#### 改变t1l\n",
    "下面主要研究导致渐近线的项。改变t1l，看看极限值如何变化"
   ]
  },
  {
   "cell_type": "code",
   "execution_count": 9,
   "metadata": {},
   "outputs": [],
   "source": [
    "t1ll = np.array([0.2,0.3,0.4,0.5,0.6,0.7]) # t1l from 0.2 to 0.7\n",
    "mat34oo = np.array([0.0001647158781209171,0.0001603690459393641,0.00015407759552252146,0.00014558964298549672,0.0001344899513102369,0.00012005629520505798])"
   ]
  },
  {
   "cell_type": "code",
   "execution_count": 10,
   "metadata": {
    "scrolled": true
   },
   "outputs": [
    {
     "data": {
      "text/plain": [
       "[<matplotlib.lines.Line2D at 0x1a1b3cddd8>]"
      ]
     },
     "execution_count": 10,
     "metadata": {},
     "output_type": "execute_result"
    },
    {
     "data": {
      "image/png": "[encoded data removed]",
      "text/plain": [
       "<Figure size 432x288 with 1 Axes>"
      ]
     },
     "metadata": {
      "needs_background": "light"
     },
     "output_type": "display_data"
    }
   ],
   "source": [
    "plt.plot(t1ll,mat34oo)"
   ]
  },
  {
   "cell_type": "markdown",
   "metadata": {},
   "source": [
    "![](./data/pic/11.png)\n"
   ]
  },
  {
   "cell_type": "markdown",
   "metadata": {},
   "source": [
    " 完整的趋势应该如上图所示  $A = A_1(\\frac{?^2 - t1l^2}{?^2}+ ??)$ ,? = t2 or t1r 又因为A和t1r是独立的，所以\n",
    " \n",
    " $A_1 = \\frac{t2^2 - t1l^2}{t2^2}+ ??$"
   ]
  },
  {
   "cell_type": "markdown",
   "metadata": {},
   "source": [
    "接下来思考一下渐进性的来源。图像很像是指数函数叠加上一个常数。验证一下："
   ]
  },
  {
   "cell_type": "code",
   "execution_count": 11,
   "metadata": {
    "scrolled": true
   },
   "outputs": [
    {
     "name": "stdout",
     "output_type": "stream",
     "text": [
      "[2.21331930e-08 1.38830820e+00 4.37829765e-08]\n",
      "R^2 =  0.9999999892518857\n"
     ]
    }
   ],
   "source": [
    "def func(x, a, b, c):\n",
    "    return a * np.exp(-b * x) + c\n",
    "\n",
    "popt, pcov = scipy.optimize.curve_fit(func, range(4,41,1), mat34)\n",
    "print(popt)\n",
    "y_pred = [func(i, popt[0],popt[1], popt[2]) for i in range(4,41,1)]\n",
    "from sklearn.metrics import r2_score\n",
    "r2 = r2_score(np.real(mat34), np.real(y_pred))\n",
    "print('R^2 = ',r2)"
   ]
  },
  {
   "cell_type": "markdown",
   "metadata": {},
   "source": [
    "可以看出来，符合的很好，即，渐进性是指数+常数造成的。"
   ]
  }
 ],
 "metadata": {
  "kernelspec": {
   "display_name": "PyCharm (SSH-model)",
   "language": "python",
   "name": "pycharm-1f9b32e7"
  },
  "language_info": {
   "codemirror_mode": {
    "name": "ipython",
    "version": 3
   },
   "file_extension": ".py",
   "mimetype": "text/x-python",
   "name": "python",
   "nbconvert_exporter": "python",
   "pygments_lexer": "ipython3",
   "version": "3.7.0"
  },
  "pycharm": {
   "stem_cell": {
    "cell_type": "raw",
    "metadata": {
     "collapsed": false
    },
    "source": [
     "\n",
     "\n"
    ]
   }
  }
 },
 "nbformat": 4,
 "nbformat_minor": 1
}
